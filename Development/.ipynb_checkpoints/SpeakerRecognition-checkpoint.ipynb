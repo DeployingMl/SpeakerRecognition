{
 "cells": [
  {
   "cell_type": "markdown",
   "metadata": {},
   "source": [
    "# Introduction\n",
    "In this tutorial we are going to handle speaker recognition by applying speech recognition technique which is the ability of a machine to identify words and phrases in spoken language and conver them to machine readable. Speech recognition powers most apps today which include Google Assistant, Alexa and Siri.\n"
   ]
  },
  {
   "cell_type": "markdown",
   "metadata": {},
   "source": [
    "# Table of Contents\n",
    "- Methodology \n",
    "- Dataset Description\n",
    "- Data preparation and processing\n",
    "- Model Creation and Training\n",
    "- Model Conversion"
   ]
  },
  {
   "cell_type": "markdown",
   "metadata": {},
   "source": [
    "# Methodology\n",
    "Before I learned on how to apply deep learning techniques on audio data, it always sounded weird to me how this happens. To get you upto speed we will be dealing with signal data in form of a waveform which is a graphical representation of a signal as a plot of amplitude versus time. For our case we will convert a raw signal waveform into a spectrogram giving us an image which we can apply a convolutional neural net hence convering our problem into a computer vision. A spectrogram is a visual representation of the spectrum of frequencies of a signal as it varies with time.\n",
    "\n",
    "We will combine the dataset with background noise since in real life there is always noise and training the model with pure noise free data while lead to inaccurate model results once deployed to use, example will be like audience claps.\n",
    "\n",
    "Processing and modelling will be handled using TensorFlow and Spela, Spela - spectrogram layers is a package built by extending Keras layers, it aids on easy conversion of raw signal to spectrogram and can also be bundled together on a model."
   ]
  },
  {
   "cell_type": "markdown",
   "metadata": {},
   "source": [
    "# Dataset Description\n",
    "The dataset we will be using is speech from five prominent leaders namely Benjamin Netanyahu, Jens Stoltenberg, Julia Gillard, Margaret Tacher and Nelson Mandela. Each recording is a 30 minute long audio 1b bit PCM encoded but has been broken down in chunks of 1 second. I have uploaded the dataset to Kaggle."
   ]
  },
  {
   "cell_type": "markdown",
   "metadata": {},
   "source": [
    "# Data preparation and processing\n",
    "Data preparation is a very crucial part in creating machine learning models, processing data in to correct format will aid it producing great results, a format that the computer best understands. We will read our data using TensorFlow audio packages and prepare it with TensorFlow data. \n",
    "\n",
    "The most important part here is creating the data while adding background data. "
   ]
  },
  {
   "cell_type": "code",
   "execution_count": 3,
   "metadata": {},
   "outputs": [],
   "source": [
    "# DATA directory\n",
    "DATADIR = \"/mnt/Data/data_science/Dev2prodProjects/DATASETS/16000_pcm_speeches/\""
   ]
  },
  {
   "cell_type": "code",
   "execution_count": 4,
   "metadata": {},
   "outputs": [],
   "source": [
    "# Handle imports\n",
    "\n",
    "import matplotlib.pyplot as plt # plotting functionalities\n",
    "import pandas as pd\n",
    "import seaborn as sns\n",
    "import numpy as np # mathematical \n",
    "import tensorflow as tf # model building and training\n",
    "import spela as sp # creating spectrogram layers\n",
    "\n",
    "import librosa.display\n",
    "# to handle os files\n",
    "import os\n",
    "\n",
    "from sklearn.metrics import confusion_matrix, plot_confusion_matrix\n",
    "sns.set()"
   ]
  },
  {
   "cell_type": "markdown",
   "metadata": {},
   "source": [
    "Get the number of contents in each folder"
   ]
  },
  {
   "cell_type": "markdown",
   "metadata": {
    "pycharm": {
     "name": "#%% md\n"
    },
    "tags": []
   },
   "source": [
    "We will use TensorFlow Dataset to build our data pipeline. In the pipeline we\n",
    "will read the wav data from directory, prepare class labels, mix in background\n",
    "data as mentioned above. To avoid background data overshadowing foreground real data, we can\n",
    "either multiply the foreground data with a factor to increase the volume or on\n",
    "background data to decrease the volume. Selection of portion of background data to mix in is selected\n",
    "randomly and not that mixing happens only on the training set."
   ]
  },
  {
   "cell_type": "code",
   "execution_count": 5,
   "metadata": {
    "pycharm": {
     "name": "#%%\n"
    }
   },
   "outputs": [],
   "source": [
    "# prepare data classes\n",
    "classes = [\"Nelson_Mandela\", \"Julia_Gillard\",\n",
    "           \"Benjamin_Netanyau\", \"Jens_Stoltenberg\",\n",
    "           \"Margaret_Thatcher\"]\n",
    "\n",
    "# prepare background data\n",
    "background_volume=0.5\n",
    "background_path = DATADIR+\"Audience-Claps.wav\"\n",
    "background_data = tf.audio.decode_wav(\n",
    "    tf.io.read_file(background_path),\n",
    "    desired_channels=1).audio\n",
    "\n",
    "def select_background_data():\n",
    "    background_offset = np.random.randint(0, len(background_data) - 16000)\n",
    "    background_clipped = background_data[background_offset:(background_offset+16000)]\n",
    "    return tf.multiply(background_volume,background_clipped)"
   ]
  },
  {
   "cell_type": "code",
   "execution_count": 28,
   "metadata": {
    "jupyter": {
     "outputs_hidden": false
    },
    "pycharm": {
     "name": "#%%\n"
    }
   },
   "outputs": [],
   "source": [
    "# get label by splitting path\n",
    "def get_label(path):\n",
    "    path = tf.strings.split(path, os.path.sep)\n",
    "    return path[-2] == classes\n",
    "\n",
    "# load raw audio\n",
    "def load_wav_train(path):\n",
    "    wav_path = tf.io.read_file(path)\n",
    "    wav_data = tf.audio.decode_wav(wav_path, desired_samples=16000, desired_channels=1)\n",
    "    # mix in background data\n",
    "    background_select = select_background_data()\n",
    "    mix = tf.add(background_select, wav_data.audio)\n",
    "    return tf.reshape(mix, (1,16000))\n",
    "\n",
    "def load_wav_val(path):\n",
    "    wav_path = tf.io.read_file(path)\n",
    "    wav_data = tf.audio.decode_wav(wav_path, desired_samples=16000, desired_channels=1)\n",
    "    return tf.reshape(wav_data.audio, (1,16000))\n",
    "\n",
    "# process the path\n",
    "def process_path_train(path):\n",
    "    label = get_label(path)\n",
    "    wav_data = load_wav_train(path)\n",
    "    return wav_data, label\n",
    "\n",
    "def process_path_val(path):\n",
    "    label = get_label(path)\n",
    "    wav_data = load_wav_val(path)\n",
    "    return wav_data, label"
   ]
  },
  {
   "cell_type": "code",
   "execution_count": 29,
   "metadata": {
    "jupyter": {
     "outputs_hidden": false
    },
    "pycharm": {
     "name": "#%%\n"
    }
   },
   "outputs": [
    {
     "name": "stdout",
     "output_type": "stream",
     "text": [
      "tf.Tensor(\n",
      "[[-0.38456726 -0.5278168  -0.292511   ... -0.60931396 -0.57977295\n",
      "  -0.5758362 ]], shape=(1, 16000), dtype=float32)\n",
      "tf.Tensor([False False False False  True], shape=(5,), dtype=bool)\n"
     ]
    }
   ],
   "source": [
    "# get data paths with tf.data.Dataset and map the processing function\n",
    "path_lists_train = tf.data.Dataset.list_files(DATADIR + \"split/train/\" + \"*/*\")\n",
    "labeled_data_train = path_lists_train.map(process_path_train)\n",
    "\n",
    "path_lists_val = tf.data.Dataset.list_files(DATADIR + \"split/val/\" + \"*/*\")\n",
    "labeled_data_val = path_lists_val.map(process_path_val)\n",
    "# batch the dataset and shuffle\n",
    "batched_ds_train = labeled_data_train.cache().shuffle(300).batch(32)\n",
    "batched_ds_val = labeled_data_val.cache().batch(32)\n",
    "# check if we have prepared our dataset well\n",
    "for i, j in labeled_data_train:\n",
    "    print(i)\n",
    "    print(j)\n",
    "    break"
   ]
  },
  {
   "cell_type": "markdown",
   "metadata": {
    "pycharm": {
     "name": "#%% md\n"
    }
   },
   "source": [
    "# Model Creation and Training\n",
    "We have come a long way through preparing our dataset and formatting it for training and now we are going\n",
    "to build and train the model. As mentioned in the methodology section, the model will consist of a spectrogram\n",
    "feature extractor which will convert the raw waveform."
   ]
  },
  {
   "cell_type": "code",
   "execution_count": 30,
   "metadata": {
    "jupyter": {
     "outputs_hidden": false
    },
    "pycharm": {
     "name": "#%%\n"
    }
   },
   "outputs": [],
   "source": [
    "# create a spectrogram feature layer\n",
    "def spectrogram_layer():\n",
    "    model = tf.keras.Sequential()\n",
    "    model.add(sp.spectrogram.Spectrogram(\n",
    "        n_dft=512, n_hop=256, input_shape=(1, 16000),\n",
    "        return_decibel_spectrogram=True, power_spectrogram=2.0,\n",
    "        trainable_kernel=False))\n",
    "    return model\n"
   ]
  },
  {
   "cell_type": "markdown",
   "metadata": {
    "pycharm": {
     "name": "#%% md\n"
    }
   },
   "source": [
    " lets use the above layer to visualize the spectrogram image it extracts"
   ]
  },
  {
   "cell_type": "code",
   "execution_count": 100,
   "metadata": {
    "jupyter": {
     "outputs_hidden": false
    },
    "pycharm": {
     "name": "#%%\n"
    }
   },
   "outputs": [
    {
     "data": {
      "image/png": "[encoded data removed]",
      "text/plain": [
       "<Figure size 432x288 with 1 Axes>"
      ]
     },
     "metadata": {},
     "output_type": "display_data"
    }
   ],
   "source": [
    "spec_model = spectrogram_layer()\n",
    "wav = i.numpy()[np.newaxis, :]\n",
    "pred = spec_model.predict(x=wav)\n",
    "if tf.keras.backend.image_data_format() == \"channel_first\":\n",
    "    result = pred[0, 0]\n",
    "else:\n",
    "    result = pred[0, :, :, 0]\n",
    "# plot the spectrogram image\n",
    "librosa.display.specshow(result, y_axis='linear', sr=16000)\n",
    "plt.show()"
   ]
  },
  {
   "cell_type": "markdown",
   "metadata": {
    "pycharm": {
     "name": "#%% md\n"
    }
   },
   "source": [
    "Wow, that's so cool. We can finally generate and image which we can apply computer vision.\n",
    "Next let's build a simple convolution neural network while stacking the spectrogram model on top."
   ]
  },
  {
   "cell_type": "code",
   "execution_count": 33,
   "metadata": {
    "jupyter": {
     "outputs_hidden": false
    },
    "pycharm": {
     "name": "#%%\n"
    }
   },
   "outputs": [
    {
     "name": "stdout",
     "output_type": "stream",
     "text": [
      "Model: \"sequential_2\"\n",
      "_________________________________________________________________\n",
      "Layer (type)                 Output Shape              Param #   \n",
      "=================================================================\n",
      "spectrogram_2 (Spectrogram)  (None, 257, 63, 1)        263168    \n",
      "_________________________________________________________________\n",
      "conv2d (Conv2D)              (None, 255, 61, 64)       640       \n",
      "_________________________________________________________________\n",
      "max_pooling2d (MaxPooling2D) (None, 127, 30, 64)       0         \n",
      "_________________________________________________________________\n",
      "flatten (Flatten)            (None, 243840)            0         \n",
      "_________________________________________________________________\n",
      "dense (Dense)                (None, 5)                 1219205   \n",
      "=================================================================\n",
      "Total params: 1,483,013\n",
      "Trainable params: 1,483,013\n",
      "Non-trainable params: 0\n",
      "_________________________________________________________________\n"
     ]
    }
   ],
   "source": [
    "def cnn_model():\n",
    "    spec_model = spectrogram_layer()\n",
    "    spec_model.add(tf.keras.layers.Conv2D(64, (3,3), activation=\"relu\"))\n",
    "    spec_model.add(tf.keras.layers.MaxPool2D(pool_size=(2, 2)))\n",
    "    spec_model.add(tf.keras.layers.Flatten())\n",
    "    spec_model.add(tf.keras.layers.Dense(len(classes), activation=\"softmax\"))\n",
    "\n",
    "    # compile the model with adam optimizer and cross entropy loss\n",
    "    spec_model.compile(\n",
    "        optimizer=tf.keras.optimizers.Adam(lr=3e-4),\n",
    "        loss=\"categorical_crossentropy\",\n",
    "        metrics=[\"accuracy\"]\n",
    "    )\n",
    "    return spec_model\n",
    "\n",
    "model = cnn_model()\n",
    "model.summary()"
   ]
  },
  {
   "cell_type": "markdown",
   "metadata": {
    "pycharm": {
     "name": "#%% md\n"
    }
   },
   "source": [
    "We have successfully created our model it's now time to train it and see\n",
    "how it performs, we don't know for sure how it will but am passionate that\n",
    "will do great."
   ]
  },
  {
   "cell_type": "code",
   "execution_count": 34,
   "metadata": {
    "jupyter": {
     "outputs_hidden": false
    },
    "pycharm": {
     "name": "#%%\n"
    }
   },
   "outputs": [
    {
     "name": "stdout",
     "output_type": "stream",
     "text": [
      "Epoch 1/5\n",
      "165/165 [==============================] - 75s 452ms/step - loss: 31.4229 - accuracy: 0.5648 - val_loss: 11.6381 - val_accuracy: 0.3154\n",
      "Epoch 2/5\n",
      "165/165 [==============================] - 9s 52ms/step - loss: 1.6834 - accuracy: 0.8373 - val_loss: 6.7856 - val_accuracy: 0.5784\n",
      "Epoch 3/5\n",
      "165/165 [==============================] - 9s 52ms/step - loss: 1.0829 - accuracy: 0.8802 - val_loss: 1.2322 - val_accuracy: 0.8667\n",
      "Epoch 4/5\n",
      "165/165 [==============================] - 9s 52ms/step - loss: 0.4280 - accuracy: 0.9472 - val_loss: 0.3159 - val_accuracy: 0.9414\n",
      "Epoch 5/5\n",
      "165/165 [==============================] - 9s 52ms/step - loss: 0.0490 - accuracy: 0.9853 - val_loss: 0.3052 - val_accuracy: 0.9378\n"
     ]
    },
    {
     "data": {
      "text/plain": [
       "<tensorflow.python.keras.callbacks.History at 0x7f52397b2150>"
      ]
     },
     "execution_count": 34,
     "metadata": {},
     "output_type": "execute_result"
    }
   ],
   "source": [
    "epochs = 5\n",
    "model.fit(batched_ds_train, validation_data=batched_ds_val, epochs=epochs)"
   ]
  },
  {
   "cell_type": "markdown",
   "metadata": {
    "pycharm": {
     "name": "#%% md\n"
    }
   },
   "source": [
    "wow the model performs so well, this dataset is close to clean and the results are satisfying. You can see that\n",
    "extracted spectrogram form a waveform is a great feature to distinguish speaker or audios.\n",
    "\n",
    "Let's compute and plot confusion matrix using validation set\n"
   ]
  },
  {
   "cell_type": "code",
   "execution_count": 101,
   "metadata": {
    "pycharm": {
     "name": "#%%\n"
    }
   },
   "outputs": [
    {
     "data": {
      "text/plain": [
       "<matplotlib.axes._subplots.AxesSubplot at 0x7f514007b1d0>"
      ]
     },
     "execution_count": 101,
     "metadata": {},
     "output_type": "execute_result"
    },
    {
     "data": {
      "image/png": "[encoded data removed]",
      "text/plain": [
       "<Figure size 432x288 with 2 Axes>"
      ]
     },
     "metadata": {},
     "output_type": "display_data"
    }
   ],
   "source": [
    "# get the data\n",
    "val_x, val_y= next(iter(batched_ds_val))\n",
    "\n",
    "# get true labels\n",
    "true_labels = np.array([np.where(i == True)[0][0] for i in val_y])\n",
    "\n",
    "# make predictions\n",
    "predicted_labels = np.argmax(model.predict(val_x), axis=-1)\n",
    "\n",
    "# cmpute a confusion matrix\n",
    "cm = confusion_matrix(true_labels,predicted_labels)\n",
    "# plot the confusion matrix\n",
    "sns.heatmap(pd.DataFrame(cm), annot=True)"
   ]
  },
  {
   "cell_type": "markdown",
   "metadata": {},
   "source": [
    "We can see that the model predicts correctly for all the classes and are confident that it will perform well in production."
   ]
  },
  {
   "cell_type": "markdown",
   "metadata": {},
   "source": [
    "# Model Conversion and Saving\n",
    "Having prepared the data and trained the model, we are now ready to convert the model to TensorFlow lite and save for use in production, this process is quite straight forward. Wecwill also save labels according to their order."
   ]
  },
  {
   "cell_type": "code",
   "execution_count": 6,
   "metadata": {
    "pycharm": {
     "name": "#%%\n"
    }
   },
   "outputs": [],
   "source": [
    "# get model\n",
    "conveter = tf.lite.TFLiteConverter.from_keras_model(model)\n",
    "# convert the model\n",
    "tflite_model = conveter.convert()\n",
    "# save model to directory\n",
    "open(\"assets/tflite_model.tflite\", \"wb\").write(tflite_model)\n",
    "\n",
    "# write labels to disk\n",
    "with open(\"assets/labels.txt\", \"w\") as l:\n",
    "    for i in classes:\n",
    "        l.write(i)\n",
    "        l.write(\"\\n\")\n",
    "    l.close()"
   ]
  },
  {
   "cell_type": "markdown",
   "metadata": {},
   "source": [
    "# Model Conversion and Saving\n",
    "Having prepared the data and trained the model, we are now ready to convert the model to TensorFlow lite and save for use in production, this process is quite straight forward."
   ]
  },
  {
   "cell_type": "code",
   "execution_count": 105,
   "metadata": {},
   "outputs": [
    {
     "data": {
      "text/plain": [
       "5938448"
      ]
     },
     "execution_count": 105,
     "metadata": {},
     "output_type": "execute_result"
    }
   ],
   "source": [
    "# get model\n",
    "conveter = tf.lite.TFLiteConverter.from_keras_model(model)\n",
    "# convert the model\n",
    "tflite_model = conveter.convert()\n",
    "# save model to directory\n",
    "open(\"assets/tflite_model.tflite\", \"wb\").write(tflite_model)"
   ]
  },
  {
   "cell_type": "markdown",
   "metadata": {},
   "source": [
    "# Conclusion\n",
    "Congratulations for reaching the end of this tutuorial, I know we have convered alot. The techniques we have applied are very effective, more backgrouund data could be added according to the settngs of where the model will be deployed. For our case we used audience claps which is common when one is making a speech.Apart from the spectrogram applied for this tutorial, there is melspectrogram which is simply a spectrogram where frequencies are converted to mel scale. Mel scale are lower frequencies range where human hear best detect differences in sound.\n",
    "\n",
    "You can jump straight to the production tutorial and learn how to deploy this mmodel to mobile device."
   ]
  },
  {
   "cell_type": "markdown",
   "metadata": {},
   "source": [
    "# References\n",
    "1. Roberts, L. (2020, March 14). Understanding the Mel Spectrogram. Retrieved June 25, 2020, from https://medium.com/analytics-vidhya/understanding-the-mel-spectrogram-fca2afa2ce53\n",
    "\n",
    "2. Practicalcryptography.com. 2020. Practical Cryptography. [online] Available at: <http://practicalcryptography.com/miscellaneous/machine-learning/guide-mel-frequency-cepstral-coefficients-mfccs/> [Accessed 25 June 2020]."
   ]
  }
 ],
 "metadata": {
  "kernelspec": {
   "display_name": "Python 3.7.4 64-bit ('base': conda)",
   "language": "python",
   "name": "python37464bitbaseconda82d85c69879f40d280819145ffc85f1c"
  },
  "language_info": {
   "codemirror_mode": {
    "name": "ipython",
    "version": 3
   },
   "file_extension": ".py",
   "mimetype": "text/x-python",
   "name": "python",
   "nbconvert_exporter": "python",
   "pygments_lexer": "ipython3",
   "version": "3.7.6"
  }
 },
 "nbformat": 4,
 "nbformat_minor": 4
}
